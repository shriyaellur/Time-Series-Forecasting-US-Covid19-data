{
 "cells": [
  {
   "cell_type": "code",
   "execution_count": 1,
   "id": "28376fb6",
   "metadata": {},
   "outputs": [],
   "source": [
    "import numpy as np\n",
    "import pandas as pd\n",
    "import matplotlib.pyplot as plt\n",
    "import seaborn as sns\n",
    "import warnings\n",
    "warnings.filterwarnings('ignore')"
   ]
  },
  {
   "cell_type": "code",
   "execution_count": 3,
   "id": "dac51957",
   "metadata": {},
   "outputs": [
    {
     "data": {
      "text/html": [
       "<div>\n",
       "<style scoped>\n",
       "    .dataframe tbody tr th:only-of-type {\n",
       "        vertical-align: middle;\n",
       "    }\n",
       "\n",
       "    .dataframe tbody tr th {\n",
       "        vertical-align: top;\n",
       "    }\n",
       "\n",
       "    .dataframe thead th {\n",
       "        text-align: right;\n",
       "    }\n",
       "</style>\n",
       "<table border=\"1\" class=\"dataframe\">\n",
       "  <thead>\n",
       "    <tr style=\"text-align: right;\">\n",
       "      <th></th>\n",
       "      <th>Date</th>\n",
       "      <th>Positive</th>\n",
       "      <th>Hospitalized</th>\n",
       "      <th>Death</th>\n",
       "    </tr>\n",
       "  </thead>\n",
       "  <tbody>\n",
       "    <tr>\n",
       "      <th>0</th>\n",
       "      <td>17-03-2020</td>\n",
       "      <td>10021</td>\n",
       "      <td>325</td>\n",
       "      <td>124</td>\n",
       "    </tr>\n",
       "    <tr>\n",
       "      <th>1</th>\n",
       "      <td>18-03-2020</td>\n",
       "      <td>13385</td>\n",
       "      <td>416</td>\n",
       "      <td>155</td>\n",
       "    </tr>\n",
       "    <tr>\n",
       "      <th>2</th>\n",
       "      <td>19-03-2020</td>\n",
       "      <td>18085</td>\n",
       "      <td>617</td>\n",
       "      <td>203</td>\n",
       "    </tr>\n",
       "    <tr>\n",
       "      <th>3</th>\n",
       "      <td>20-03-2020</td>\n",
       "      <td>24197</td>\n",
       "      <td>1042</td>\n",
       "      <td>273</td>\n",
       "    </tr>\n",
       "    <tr>\n",
       "      <th>4</th>\n",
       "      <td>21-03-2020</td>\n",
       "      <td>31013</td>\n",
       "      <td>1492</td>\n",
       "      <td>335</td>\n",
       "    </tr>\n",
       "  </tbody>\n",
       "</table>\n",
       "</div>"
      ],
      "text/plain": [
       "         Date  Positive  Hospitalized  Death\n",
       "0  17-03-2020     10021           325    124\n",
       "1  18-03-2020     13385           416    155\n",
       "2  19-03-2020     18085           617    203\n",
       "3  20-03-2020     24197          1042    273\n",
       "4  21-03-2020     31013          1492    335"
      ]
     },
     "execution_count": 3,
     "metadata": {},
     "output_type": "execute_result"
    }
   ],
   "source": [
    "d = pd.read_csv('us_covid19_daily-1.csv')\n",
    "d.head()"
   ]
  },
  {
   "cell_type": "code",
   "execution_count": 131,
   "id": "51c3ef39",
   "metadata": {},
   "outputs": [],
   "source": [
    "df = d.drop(['Positive','Death'],axis=1)"
   ]
  },
  {
   "cell_type": "code",
   "execution_count": 132,
   "id": "29ff4314",
   "metadata": {},
   "outputs": [
    {
     "data": {
      "text/html": [
       "<div>\n",
       "<style scoped>\n",
       "    .dataframe tbody tr th:only-of-type {\n",
       "        vertical-align: middle;\n",
       "    }\n",
       "\n",
       "    .dataframe tbody tr th {\n",
       "        vertical-align: top;\n",
       "    }\n",
       "\n",
       "    .dataframe thead th {\n",
       "        text-align: right;\n",
       "    }\n",
       "</style>\n",
       "<table border=\"1\" class=\"dataframe\">\n",
       "  <thead>\n",
       "    <tr style=\"text-align: right;\">\n",
       "      <th></th>\n",
       "      <th>Date</th>\n",
       "      <th>Hospitalized</th>\n",
       "    </tr>\n",
       "  </thead>\n",
       "  <tbody>\n",
       "    <tr>\n",
       "      <th>0</th>\n",
       "      <td>17-03-2020</td>\n",
       "      <td>325</td>\n",
       "    </tr>\n",
       "    <tr>\n",
       "      <th>1</th>\n",
       "      <td>18-03-2020</td>\n",
       "      <td>416</td>\n",
       "    </tr>\n",
       "    <tr>\n",
       "      <th>2</th>\n",
       "      <td>19-03-2020</td>\n",
       "      <td>617</td>\n",
       "    </tr>\n",
       "    <tr>\n",
       "      <th>3</th>\n",
       "      <td>20-03-2020</td>\n",
       "      <td>1042</td>\n",
       "    </tr>\n",
       "    <tr>\n",
       "      <th>4</th>\n",
       "      <td>21-03-2020</td>\n",
       "      <td>1492</td>\n",
       "    </tr>\n",
       "  </tbody>\n",
       "</table>\n",
       "</div>"
      ],
      "text/plain": [
       "         Date  Hospitalized\n",
       "0  17-03-2020           325\n",
       "1  18-03-2020           416\n",
       "2  19-03-2020           617\n",
       "3  20-03-2020          1042\n",
       "4  21-03-2020          1492"
      ]
     },
     "execution_count": 132,
     "metadata": {},
     "output_type": "execute_result"
    }
   ],
   "source": [
    "df.head()"
   ]
  },
  {
   "cell_type": "code",
   "execution_count": 133,
   "id": "4412fa2a",
   "metadata": {},
   "outputs": [
    {
     "data": {
      "text/html": [
       "<div>\n",
       "<style scoped>\n",
       "    .dataframe tbody tr th:only-of-type {\n",
       "        vertical-align: middle;\n",
       "    }\n",
       "\n",
       "    .dataframe tbody tr th {\n",
       "        vertical-align: top;\n",
       "    }\n",
       "\n",
       "    .dataframe thead th {\n",
       "        text-align: right;\n",
       "    }\n",
       "</style>\n",
       "<table border=\"1\" class=\"dataframe\">\n",
       "  <thead>\n",
       "    <tr style=\"text-align: right;\">\n",
       "      <th></th>\n",
       "      <th>Date</th>\n",
       "      <th>Hospitalized</th>\n",
       "    </tr>\n",
       "  </thead>\n",
       "  <tbody>\n",
       "    <tr>\n",
       "      <th>260</th>\n",
       "      <td>02-12-2020</td>\n",
       "      <td>100322</td>\n",
       "    </tr>\n",
       "    <tr>\n",
       "      <th>261</th>\n",
       "      <td>03-12-2020</td>\n",
       "      <td>100755</td>\n",
       "    </tr>\n",
       "    <tr>\n",
       "      <th>262</th>\n",
       "      <td>04-12-2020</td>\n",
       "      <td>101276</td>\n",
       "    </tr>\n",
       "    <tr>\n",
       "      <th>263</th>\n",
       "      <td>05-12-2020</td>\n",
       "      <td>101190</td>\n",
       "    </tr>\n",
       "    <tr>\n",
       "      <th>264</th>\n",
       "      <td>06-12-2020</td>\n",
       "      <td>101487</td>\n",
       "    </tr>\n",
       "  </tbody>\n",
       "</table>\n",
       "</div>"
      ],
      "text/plain": [
       "           Date  Hospitalized\n",
       "260  02-12-2020        100322\n",
       "261  03-12-2020        100755\n",
       "262  04-12-2020        101276\n",
       "263  05-12-2020        101190\n",
       "264  06-12-2020        101487"
      ]
     },
     "execution_count": 133,
     "metadata": {},
     "output_type": "execute_result"
    }
   ],
   "source": [
    "df.tail()"
   ]
  },
  {
   "cell_type": "code",
   "execution_count": 134,
   "id": "8223b710",
   "metadata": {},
   "outputs": [
    {
     "data": {
      "text/plain": [
       "Date            object\n",
       "Hospitalized     int64\n",
       "dtype: object"
      ]
     },
     "execution_count": 134,
     "metadata": {},
     "output_type": "execute_result"
    }
   ],
   "source": [
    "df.dtypes"
   ]
  },
  {
   "cell_type": "code",
   "execution_count": 135,
   "id": "df169d91",
   "metadata": {},
   "outputs": [],
   "source": [
    "date = pd.date_range(start='03/17/2020',end='12/06/2020',freq='D')"
   ]
  },
  {
   "cell_type": "code",
   "execution_count": 136,
   "id": "4c7192e7",
   "metadata": {},
   "outputs": [],
   "source": [
    "df['date'] = date"
   ]
  },
  {
   "cell_type": "code",
   "execution_count": 137,
   "id": "763b55ed",
   "metadata": {},
   "outputs": [
    {
     "data": {
      "text/html": [
       "<div>\n",
       "<style scoped>\n",
       "    .dataframe tbody tr th:only-of-type {\n",
       "        vertical-align: middle;\n",
       "    }\n",
       "\n",
       "    .dataframe tbody tr th {\n",
       "        vertical-align: top;\n",
       "    }\n",
       "\n",
       "    .dataframe thead th {\n",
       "        text-align: right;\n",
       "    }\n",
       "</style>\n",
       "<table border=\"1\" class=\"dataframe\">\n",
       "  <thead>\n",
       "    <tr style=\"text-align: right;\">\n",
       "      <th></th>\n",
       "      <th>Date</th>\n",
       "      <th>Hospitalized</th>\n",
       "      <th>date</th>\n",
       "    </tr>\n",
       "  </thead>\n",
       "  <tbody>\n",
       "    <tr>\n",
       "      <th>0</th>\n",
       "      <td>17-03-2020</td>\n",
       "      <td>325</td>\n",
       "      <td>2020-03-17</td>\n",
       "    </tr>\n",
       "    <tr>\n",
       "      <th>1</th>\n",
       "      <td>18-03-2020</td>\n",
       "      <td>416</td>\n",
       "      <td>2020-03-18</td>\n",
       "    </tr>\n",
       "    <tr>\n",
       "      <th>2</th>\n",
       "      <td>19-03-2020</td>\n",
       "      <td>617</td>\n",
       "      <td>2020-03-19</td>\n",
       "    </tr>\n",
       "    <tr>\n",
       "      <th>3</th>\n",
       "      <td>20-03-2020</td>\n",
       "      <td>1042</td>\n",
       "      <td>2020-03-20</td>\n",
       "    </tr>\n",
       "    <tr>\n",
       "      <th>4</th>\n",
       "      <td>21-03-2020</td>\n",
       "      <td>1492</td>\n",
       "      <td>2020-03-21</td>\n",
       "    </tr>\n",
       "  </tbody>\n",
       "</table>\n",
       "</div>"
      ],
      "text/plain": [
       "         Date  Hospitalized       date\n",
       "0  17-03-2020           325 2020-03-17\n",
       "1  18-03-2020           416 2020-03-18\n",
       "2  19-03-2020           617 2020-03-19\n",
       "3  20-03-2020          1042 2020-03-20\n",
       "4  21-03-2020          1492 2020-03-21"
      ]
     },
     "execution_count": 137,
     "metadata": {},
     "output_type": "execute_result"
    }
   ],
   "source": [
    "df.head()"
   ]
  },
  {
   "cell_type": "code",
   "execution_count": 138,
   "id": "d799f212",
   "metadata": {},
   "outputs": [],
   "source": [
    "df = df.drop('Date',axis=1)"
   ]
  },
  {
   "cell_type": "code",
   "execution_count": 139,
   "id": "3960df33",
   "metadata": {},
   "outputs": [
    {
     "data": {
      "text/html": [
       "<div>\n",
       "<style scoped>\n",
       "    .dataframe tbody tr th:only-of-type {\n",
       "        vertical-align: middle;\n",
       "    }\n",
       "\n",
       "    .dataframe tbody tr th {\n",
       "        vertical-align: top;\n",
       "    }\n",
       "\n",
       "    .dataframe thead th {\n",
       "        text-align: right;\n",
       "    }\n",
       "</style>\n",
       "<table border=\"1\" class=\"dataframe\">\n",
       "  <thead>\n",
       "    <tr style=\"text-align: right;\">\n",
       "      <th></th>\n",
       "      <th>Hospitalized</th>\n",
       "    </tr>\n",
       "    <tr>\n",
       "      <th>date</th>\n",
       "      <th></th>\n",
       "    </tr>\n",
       "  </thead>\n",
       "  <tbody>\n",
       "    <tr>\n",
       "      <th>2020-03-17</th>\n",
       "      <td>325</td>\n",
       "    </tr>\n",
       "    <tr>\n",
       "      <th>2020-03-18</th>\n",
       "      <td>416</td>\n",
       "    </tr>\n",
       "    <tr>\n",
       "      <th>2020-03-19</th>\n",
       "      <td>617</td>\n",
       "    </tr>\n",
       "    <tr>\n",
       "      <th>2020-03-20</th>\n",
       "      <td>1042</td>\n",
       "    </tr>\n",
       "    <tr>\n",
       "      <th>2020-03-21</th>\n",
       "      <td>1492</td>\n",
       "    </tr>\n",
       "  </tbody>\n",
       "</table>\n",
       "</div>"
      ],
      "text/plain": [
       "            Hospitalized\n",
       "date                    \n",
       "2020-03-17           325\n",
       "2020-03-18           416\n",
       "2020-03-19           617\n",
       "2020-03-20          1042\n",
       "2020-03-21          1492"
      ]
     },
     "execution_count": 139,
     "metadata": {},
     "output_type": "execute_result"
    }
   ],
   "source": [
    "df = df.set_index('date')\n",
    "df.head()"
   ]
  },
  {
   "cell_type": "code",
   "execution_count": 140,
   "id": "2e65c4aa",
   "metadata": {},
   "outputs": [
    {
     "data": {
      "text/html": [
       "<div>\n",
       "<style scoped>\n",
       "    .dataframe tbody tr th:only-of-type {\n",
       "        vertical-align: middle;\n",
       "    }\n",
       "\n",
       "    .dataframe tbody tr th {\n",
       "        vertical-align: top;\n",
       "    }\n",
       "\n",
       "    .dataframe thead th {\n",
       "        text-align: right;\n",
       "    }\n",
       "</style>\n",
       "<table border=\"1\" class=\"dataframe\">\n",
       "  <thead>\n",
       "    <tr style=\"text-align: right;\">\n",
       "      <th></th>\n",
       "      <th>Hospitalized</th>\n",
       "    </tr>\n",
       "    <tr>\n",
       "      <th>date</th>\n",
       "      <th></th>\n",
       "    </tr>\n",
       "  </thead>\n",
       "  <tbody>\n",
       "    <tr>\n",
       "      <th>2020-12-02</th>\n",
       "      <td>100322</td>\n",
       "    </tr>\n",
       "    <tr>\n",
       "      <th>2020-12-03</th>\n",
       "      <td>100755</td>\n",
       "    </tr>\n",
       "    <tr>\n",
       "      <th>2020-12-04</th>\n",
       "      <td>101276</td>\n",
       "    </tr>\n",
       "    <tr>\n",
       "      <th>2020-12-05</th>\n",
       "      <td>101190</td>\n",
       "    </tr>\n",
       "    <tr>\n",
       "      <th>2020-12-06</th>\n",
       "      <td>101487</td>\n",
       "    </tr>\n",
       "  </tbody>\n",
       "</table>\n",
       "</div>"
      ],
      "text/plain": [
       "            Hospitalized\n",
       "date                    \n",
       "2020-12-02        100322\n",
       "2020-12-03        100755\n",
       "2020-12-04        101276\n",
       "2020-12-05        101190\n",
       "2020-12-06        101487"
      ]
     },
     "execution_count": 140,
     "metadata": {},
     "output_type": "execute_result"
    }
   ],
   "source": [
    "df.tail()"
   ]
  },
  {
   "cell_type": "code",
   "execution_count": 141,
   "id": "a5590b04",
   "metadata": {},
   "outputs": [
    {
     "data": {
      "text/plain": [
       "Hospitalized    int64\n",
       "dtype: object"
      ]
     },
     "execution_count": 141,
     "metadata": {},
     "output_type": "execute_result"
    }
   ],
   "source": [
    "df.dtypes"
   ]
  },
  {
   "cell_type": "code",
   "execution_count": 142,
   "id": "2e249b6e",
   "metadata": {},
   "outputs": [
    {
     "data": {
      "text/plain": [
       "Hospitalized    0\n",
       "dtype: int64"
      ]
     },
     "execution_count": 142,
     "metadata": {},
     "output_type": "execute_result"
    }
   ],
   "source": [
    "df.isnull().sum()"
   ]
  },
  {
   "cell_type": "code",
   "execution_count": 143,
   "id": "fa8c1221",
   "metadata": {},
   "outputs": [],
   "source": [
    "df.replace(df['Hospitalized'][3],np.NaN,inplace=True)"
   ]
  },
  {
   "cell_type": "code",
   "execution_count": 144,
   "id": "a146615b",
   "metadata": {},
   "outputs": [
    {
     "data": {
      "text/html": [
       "<div>\n",
       "<style scoped>\n",
       "    .dataframe tbody tr th:only-of-type {\n",
       "        vertical-align: middle;\n",
       "    }\n",
       "\n",
       "    .dataframe tbody tr th {\n",
       "        vertical-align: top;\n",
       "    }\n",
       "\n",
       "    .dataframe thead th {\n",
       "        text-align: right;\n",
       "    }\n",
       "</style>\n",
       "<table border=\"1\" class=\"dataframe\">\n",
       "  <thead>\n",
       "    <tr style=\"text-align: right;\">\n",
       "      <th></th>\n",
       "      <th>Hospitalized</th>\n",
       "    </tr>\n",
       "    <tr>\n",
       "      <th>date</th>\n",
       "      <th></th>\n",
       "    </tr>\n",
       "  </thead>\n",
       "  <tbody>\n",
       "    <tr>\n",
       "      <th>2020-03-17</th>\n",
       "      <td>325.0</td>\n",
       "    </tr>\n",
       "    <tr>\n",
       "      <th>2020-03-18</th>\n",
       "      <td>416.0</td>\n",
       "    </tr>\n",
       "    <tr>\n",
       "      <th>2020-03-19</th>\n",
       "      <td>617.0</td>\n",
       "    </tr>\n",
       "    <tr>\n",
       "      <th>2020-03-20</th>\n",
       "      <td>NaN</td>\n",
       "    </tr>\n",
       "    <tr>\n",
       "      <th>2020-03-21</th>\n",
       "      <td>1492.0</td>\n",
       "    </tr>\n",
       "  </tbody>\n",
       "</table>\n",
       "</div>"
      ],
      "text/plain": [
       "            Hospitalized\n",
       "date                    \n",
       "2020-03-17         325.0\n",
       "2020-03-18         416.0\n",
       "2020-03-19         617.0\n",
       "2020-03-20           NaN\n",
       "2020-03-21        1492.0"
      ]
     },
     "execution_count": 144,
     "metadata": {},
     "output_type": "execute_result"
    }
   ],
   "source": [
    "df.head()"
   ]
  },
  {
   "cell_type": "code",
   "execution_count": 145,
   "id": "43e58505",
   "metadata": {},
   "outputs": [
    {
     "data": {
      "text/plain": [
       "Hospitalized    1\n",
       "dtype: int64"
      ]
     },
     "execution_count": 145,
     "metadata": {},
     "output_type": "execute_result"
    }
   ],
   "source": [
    "df.isnull().sum()"
   ]
  },
  {
   "cell_type": "code",
   "execution_count": 146,
   "id": "fd018ada",
   "metadata": {},
   "outputs": [],
   "source": [
    "df = df.interpolate(method='linear')"
   ]
  },
  {
   "cell_type": "code",
   "execution_count": 147,
   "id": "5df73c10",
   "metadata": {},
   "outputs": [
    {
     "data": {
      "text/html": [
       "<div>\n",
       "<style scoped>\n",
       "    .dataframe tbody tr th:only-of-type {\n",
       "        vertical-align: middle;\n",
       "    }\n",
       "\n",
       "    .dataframe tbody tr th {\n",
       "        vertical-align: top;\n",
       "    }\n",
       "\n",
       "    .dataframe thead th {\n",
       "        text-align: right;\n",
       "    }\n",
       "</style>\n",
       "<table border=\"1\" class=\"dataframe\">\n",
       "  <thead>\n",
       "    <tr style=\"text-align: right;\">\n",
       "      <th></th>\n",
       "      <th>Hospitalized</th>\n",
       "    </tr>\n",
       "    <tr>\n",
       "      <th>date</th>\n",
       "      <th></th>\n",
       "    </tr>\n",
       "  </thead>\n",
       "  <tbody>\n",
       "    <tr>\n",
       "      <th>2020-03-17</th>\n",
       "      <td>325.0</td>\n",
       "    </tr>\n",
       "    <tr>\n",
       "      <th>2020-03-18</th>\n",
       "      <td>416.0</td>\n",
       "    </tr>\n",
       "    <tr>\n",
       "      <th>2020-03-19</th>\n",
       "      <td>617.0</td>\n",
       "    </tr>\n",
       "    <tr>\n",
       "      <th>2020-03-20</th>\n",
       "      <td>1054.5</td>\n",
       "    </tr>\n",
       "    <tr>\n",
       "      <th>2020-03-21</th>\n",
       "      <td>1492.0</td>\n",
       "    </tr>\n",
       "  </tbody>\n",
       "</table>\n",
       "</div>"
      ],
      "text/plain": [
       "            Hospitalized\n",
       "date                    \n",
       "2020-03-17         325.0\n",
       "2020-03-18         416.0\n",
       "2020-03-19         617.0\n",
       "2020-03-20        1054.5\n",
       "2020-03-21        1492.0"
      ]
     },
     "execution_count": 147,
     "metadata": {},
     "output_type": "execute_result"
    }
   ],
   "source": [
    "df.head()"
   ]
  },
  {
   "cell_type": "code",
   "execution_count": 148,
   "id": "3b77f92f",
   "metadata": {},
   "outputs": [],
   "source": [
    "df.replace(df['Hospitalized'][3],np.NaN,inplace=True)"
   ]
  },
  {
   "cell_type": "code",
   "execution_count": 149,
   "id": "4bb3b2ae",
   "metadata": {},
   "outputs": [],
   "source": [
    "df = df.rolling(window=3,min_periods=2).mean()"
   ]
  },
  {
   "cell_type": "code",
   "execution_count": 150,
   "id": "a50f3fab",
   "metadata": {},
   "outputs": [
    {
     "data": {
      "text/html": [
       "<div>\n",
       "<style scoped>\n",
       "    .dataframe tbody tr th:only-of-type {\n",
       "        vertical-align: middle;\n",
       "    }\n",
       "\n",
       "    .dataframe tbody tr th {\n",
       "        vertical-align: top;\n",
       "    }\n",
       "\n",
       "    .dataframe thead th {\n",
       "        text-align: right;\n",
       "    }\n",
       "</style>\n",
       "<table border=\"1\" class=\"dataframe\">\n",
       "  <thead>\n",
       "    <tr style=\"text-align: right;\">\n",
       "      <th></th>\n",
       "      <th>Hospitalized</th>\n",
       "    </tr>\n",
       "    <tr>\n",
       "      <th>date</th>\n",
       "      <th></th>\n",
       "    </tr>\n",
       "  </thead>\n",
       "  <tbody>\n",
       "    <tr>\n",
       "      <th>2020-03-17</th>\n",
       "      <td>NaN</td>\n",
       "    </tr>\n",
       "    <tr>\n",
       "      <th>2020-03-18</th>\n",
       "      <td>370.500000</td>\n",
       "    </tr>\n",
       "    <tr>\n",
       "      <th>2020-03-19</th>\n",
       "      <td>452.666667</td>\n",
       "    </tr>\n",
       "    <tr>\n",
       "      <th>2020-03-20</th>\n",
       "      <td>516.500000</td>\n",
       "    </tr>\n",
       "    <tr>\n",
       "      <th>2020-03-21</th>\n",
       "      <td>1054.500000</td>\n",
       "    </tr>\n",
       "  </tbody>\n",
       "</table>\n",
       "</div>"
      ],
      "text/plain": [
       "            Hospitalized\n",
       "date                    \n",
       "2020-03-17           NaN\n",
       "2020-03-18    370.500000\n",
       "2020-03-19    452.666667\n",
       "2020-03-20    516.500000\n",
       "2020-03-21   1054.500000"
      ]
     },
     "execution_count": 150,
     "metadata": {},
     "output_type": "execute_result"
    }
   ],
   "source": [
    "df.head()"
   ]
  },
  {
   "cell_type": "code",
   "execution_count": 151,
   "id": "20c9ea82",
   "metadata": {},
   "outputs": [],
   "source": [
    "df.replace(df['Hospitalized'][3],np.NaN,inplace=True)"
   ]
  },
  {
   "cell_type": "code",
   "execution_count": 152,
   "id": "d986fe77",
   "metadata": {},
   "outputs": [],
   "source": [
    "df = df.interpolate(method='linear')"
   ]
  },
  {
   "cell_type": "code",
   "execution_count": 153,
   "id": "d2c7afff",
   "metadata": {},
   "outputs": [
    {
     "data": {
      "text/html": [
       "<div>\n",
       "<style scoped>\n",
       "    .dataframe tbody tr th:only-of-type {\n",
       "        vertical-align: middle;\n",
       "    }\n",
       "\n",
       "    .dataframe tbody tr th {\n",
       "        vertical-align: top;\n",
       "    }\n",
       "\n",
       "    .dataframe thead th {\n",
       "        text-align: right;\n",
       "    }\n",
       "</style>\n",
       "<table border=\"1\" class=\"dataframe\">\n",
       "  <thead>\n",
       "    <tr style=\"text-align: right;\">\n",
       "      <th></th>\n",
       "      <th>Hospitalized</th>\n",
       "    </tr>\n",
       "    <tr>\n",
       "      <th>date</th>\n",
       "      <th></th>\n",
       "    </tr>\n",
       "  </thead>\n",
       "  <tbody>\n",
       "    <tr>\n",
       "      <th>2020-03-17</th>\n",
       "      <td>NaN</td>\n",
       "    </tr>\n",
       "    <tr>\n",
       "      <th>2020-03-18</th>\n",
       "      <td>370.500000</td>\n",
       "    </tr>\n",
       "    <tr>\n",
       "      <th>2020-03-19</th>\n",
       "      <td>452.666667</td>\n",
       "    </tr>\n",
       "    <tr>\n",
       "      <th>2020-03-20</th>\n",
       "      <td>753.583333</td>\n",
       "    </tr>\n",
       "    <tr>\n",
       "      <th>2020-03-21</th>\n",
       "      <td>1054.500000</td>\n",
       "    </tr>\n",
       "  </tbody>\n",
       "</table>\n",
       "</div>"
      ],
      "text/plain": [
       "            Hospitalized\n",
       "date                    \n",
       "2020-03-17           NaN\n",
       "2020-03-18    370.500000\n",
       "2020-03-19    452.666667\n",
       "2020-03-20    753.583333\n",
       "2020-03-21   1054.500000"
      ]
     },
     "execution_count": 153,
     "metadata": {},
     "output_type": "execute_result"
    }
   ],
   "source": [
    "df.head()"
   ]
  },
  {
   "cell_type": "code",
   "execution_count": 154,
   "id": "c841c6f4",
   "metadata": {},
   "outputs": [],
   "source": [
    "df = df[1:]"
   ]
  },
  {
   "cell_type": "code",
   "execution_count": 155,
   "id": "b500b78e",
   "metadata": {},
   "outputs": [
    {
     "data": {
      "text/html": [
       "<div>\n",
       "<style scoped>\n",
       "    .dataframe tbody tr th:only-of-type {\n",
       "        vertical-align: middle;\n",
       "    }\n",
       "\n",
       "    .dataframe tbody tr th {\n",
       "        vertical-align: top;\n",
       "    }\n",
       "\n",
       "    .dataframe thead th {\n",
       "        text-align: right;\n",
       "    }\n",
       "</style>\n",
       "<table border=\"1\" class=\"dataframe\">\n",
       "  <thead>\n",
       "    <tr style=\"text-align: right;\">\n",
       "      <th></th>\n",
       "      <th>Hospitalized</th>\n",
       "    </tr>\n",
       "    <tr>\n",
       "      <th>date</th>\n",
       "      <th></th>\n",
       "    </tr>\n",
       "  </thead>\n",
       "  <tbody>\n",
       "    <tr>\n",
       "      <th>2020-03-18</th>\n",
       "      <td>370.500000</td>\n",
       "    </tr>\n",
       "    <tr>\n",
       "      <th>2020-03-19</th>\n",
       "      <td>452.666667</td>\n",
       "    </tr>\n",
       "    <tr>\n",
       "      <th>2020-03-20</th>\n",
       "      <td>753.583333</td>\n",
       "    </tr>\n",
       "    <tr>\n",
       "      <th>2020-03-21</th>\n",
       "      <td>1054.500000</td>\n",
       "    </tr>\n",
       "    <tr>\n",
       "      <th>2020-03-22</th>\n",
       "      <td>1832.500000</td>\n",
       "    </tr>\n",
       "  </tbody>\n",
       "</table>\n",
       "</div>"
      ],
      "text/plain": [
       "            Hospitalized\n",
       "date                    \n",
       "2020-03-18    370.500000\n",
       "2020-03-19    452.666667\n",
       "2020-03-20    753.583333\n",
       "2020-03-21   1054.500000\n",
       "2020-03-22   1832.500000"
      ]
     },
     "execution_count": 155,
     "metadata": {},
     "output_type": "execute_result"
    }
   ],
   "source": [
    "df.head()"
   ]
  },
  {
   "cell_type": "code",
   "execution_count": 156,
   "id": "4e0f61b0",
   "metadata": {},
   "outputs": [
    {
     "data": {
      "text/html": [
       "<div>\n",
       "<style scoped>\n",
       "    .dataframe tbody tr th:only-of-type {\n",
       "        vertical-align: middle;\n",
       "    }\n",
       "\n",
       "    .dataframe tbody tr th {\n",
       "        vertical-align: top;\n",
       "    }\n",
       "\n",
       "    .dataframe thead th {\n",
       "        text-align: right;\n",
       "    }\n",
       "</style>\n",
       "<table border=\"1\" class=\"dataframe\">\n",
       "  <thead>\n",
       "    <tr style=\"text-align: right;\">\n",
       "      <th></th>\n",
       "      <th>Hospitalized</th>\n",
       "    </tr>\n",
       "    <tr>\n",
       "      <th>date</th>\n",
       "      <th></th>\n",
       "    </tr>\n",
       "  </thead>\n",
       "  <tbody>\n",
       "    <tr>\n",
       "      <th>2020-12-02</th>\n",
       "      <td>98416.000000</td>\n",
       "    </tr>\n",
       "    <tr>\n",
       "      <th>2020-12-03</th>\n",
       "      <td>99951.333333</td>\n",
       "    </tr>\n",
       "    <tr>\n",
       "      <th>2020-12-04</th>\n",
       "      <td>100784.333333</td>\n",
       "    </tr>\n",
       "    <tr>\n",
       "      <th>2020-12-05</th>\n",
       "      <td>101073.666667</td>\n",
       "    </tr>\n",
       "    <tr>\n",
       "      <th>2020-12-06</th>\n",
       "      <td>101317.666667</td>\n",
       "    </tr>\n",
       "  </tbody>\n",
       "</table>\n",
       "</div>"
      ],
      "text/plain": [
       "             Hospitalized\n",
       "date                     \n",
       "2020-12-02   98416.000000\n",
       "2020-12-03   99951.333333\n",
       "2020-12-04  100784.333333\n",
       "2020-12-05  101073.666667\n",
       "2020-12-06  101317.666667"
      ]
     },
     "execution_count": 156,
     "metadata": {},
     "output_type": "execute_result"
    }
   ],
   "source": [
    "df.tail()"
   ]
  },
  {
   "cell_type": "code",
   "execution_count": 157,
   "id": "b73925f8",
   "metadata": {},
   "outputs": [
    {
     "data": {
      "text/plain": [
       "Hospitalized    0\n",
       "dtype: int64"
      ]
     },
     "execution_count": 157,
     "metadata": {},
     "output_type": "execute_result"
    }
   ],
   "source": [
    "df.isnull().sum()"
   ]
  },
  {
   "cell_type": "code",
   "execution_count": 158,
   "id": "56612894",
   "metadata": {},
   "outputs": [
    {
     "data": {
      "text/plain": [
       "<AxesSubplot:xlabel='date'>"
      ]
     },
     "execution_count": 158,
     "metadata": {},
     "output_type": "execute_result"
    },
    {
     "data": {
      "image/png": "[encoded data removed]",
      "text/plain": [
       "<Figure size 432x288 with 1 Axes>"
      ]
     },
     "metadata": {
      "needs_background": "light"
     },
     "output_type": "display_data"
    }
   ],
   "source": [
    "df.plot()"
   ]
  },
  {
   "cell_type": "markdown",
   "id": "c527ab6c",
   "metadata": {},
   "source": [
    "**Decomposition**"
   ]
  },
  {
   "cell_type": "code",
   "execution_count": 159,
   "id": "3d0b187e",
   "metadata": {},
   "outputs": [],
   "source": [
    "from statsmodels.tsa.seasonal import seasonal_decompose"
   ]
  },
  {
   "cell_type": "code",
   "execution_count": 160,
   "id": "7303f6e8",
   "metadata": {},
   "outputs": [
    {
     "data": {
      "image/png": "[encoded data removed]",
      "text/plain": [
       "<Figure size 432x288 with 4 Axes>"
      ]
     },
     "metadata": {
      "needs_background": "light"
     },
     "output_type": "display_data"
    }
   ],
   "source": [
    "decomposition = seasonal_decompose(df,model='additive')\n",
    "decomposition.plot()\n",
    "plt.show()"
   ]
  },
  {
   "cell_type": "code",
   "execution_count": 161,
   "id": "8308b112",
   "metadata": {},
   "outputs": [
    {
     "data": {
      "image/png": "[encoded data removed]",
      "text/plain": [
       "<Figure size 432x288 with 4 Axes>"
      ]
     },
     "metadata": {
      "needs_background": "light"
     },
     "output_type": "display_data"
    }
   ],
   "source": [
    "de = seasonal_decompose(df,model='multiplicative')\n",
    "de.plot()\n",
    "plt.show()"
   ]
  },
  {
   "cell_type": "markdown",
   "id": "8fc3ff25",
   "metadata": {},
   "source": [
    "**Stationarity**"
   ]
  },
  {
   "cell_type": "code",
   "execution_count": 162,
   "id": "d0d76da3",
   "metadata": {},
   "outputs": [],
   "source": [
    "from statsmodels.tsa.stattools import adfuller"
   ]
  },
  {
   "cell_type": "code",
   "execution_count": 163,
   "id": "ffada591",
   "metadata": {},
   "outputs": [],
   "source": [
    "obs = df.values\n",
    "adf = adfuller(obs)"
   ]
  },
  {
   "cell_type": "code",
   "execution_count": 164,
   "id": "b3f8f2e4",
   "metadata": {},
   "outputs": [
    {
     "data": {
      "text/plain": [
       "(-1.4271941271177966,\n",
       " 0.5691717292261251,\n",
       " 16,\n",
       " 247,\n",
       " {'1%': -3.457105309726321,\n",
       "  '5%': -2.873313676101283,\n",
       "  '10%': -2.5730443824681606},\n",
       " 3497.403190911204)"
      ]
     },
     "execution_count": 164,
     "metadata": {},
     "output_type": "execute_result"
    }
   ],
   "source": [
    "adf"
   ]
  },
  {
   "cell_type": "markdown",
   "id": "1437427d",
   "metadata": {},
   "source": [
    "**It is not stationary**"
   ]
  },
  {
   "cell_type": "code",
   "execution_count": 165,
   "id": "0bb642b2",
   "metadata": {},
   "outputs": [],
   "source": [
    "from statsmodels.graphics.tsaplots import plot_acf,plot_pacf"
   ]
  },
  {
   "cell_type": "code",
   "execution_count": 166,
   "id": "c24f61fc",
   "metadata": {},
   "outputs": [
    {
     "data": {
      "image/png": "[encoded data removed]",
      "text/plain": [
       "<Figure size 432x288 with 1 Axes>"
      ]
     },
     "metadata": {
      "needs_background": "light"
     },
     "output_type": "display_data"
    }
   ],
   "source": [
    "plot_acf(df);"
   ]
  },
  {
   "cell_type": "code",
   "execution_count": 167,
   "id": "6b0ffa20",
   "metadata": {},
   "outputs": [
    {
     "data": {
      "image/png": "[encoded data removed]",
      "text/plain": [
       "<Figure size 432x288 with 1 Axes>"
      ]
     },
     "metadata": {
      "needs_background": "light"
     },
     "output_type": "display_data"
    }
   ],
   "source": [
    "plot_pacf(df);"
   ]
  },
  {
   "cell_type": "markdown",
   "id": "bf145017",
   "metadata": {},
   "source": [
    "**May be AR Characterstics**"
   ]
  },
  {
   "cell_type": "code",
   "execution_count": 168,
   "id": "863fd6e3",
   "metadata": {},
   "outputs": [],
   "source": [
    "from datetime import datetime,timedelta"
   ]
  },
  {
   "cell_type": "code",
   "execution_count": 169,
   "id": "d4fb70b7",
   "metadata": {},
   "outputs": [],
   "source": [
    "trainend = datetime(2020,11,6)\n",
    "testend  = datetime(2020,12,6)"
   ]
  },
  {
   "cell_type": "code",
   "execution_count": 170,
   "id": "caf54d56",
   "metadata": {},
   "outputs": [],
   "source": [
    "train  = df[:trainend]\n",
    "test   = df[trainend  + timedelta(days=1):testend]"
   ]
  },
  {
   "cell_type": "code",
   "execution_count": 171,
   "id": "eb239ff3",
   "metadata": {},
   "outputs": [
    {
     "name": "stdout",
     "output_type": "stream",
     "text": [
      "train:             Hospitalized\n",
      "date                    \n",
      "2020-03-18    370.500000\n",
      "2020-03-19    452.666667\n",
      "2020-03-20    753.583333\n",
      "2020-03-21   1054.500000\n",
      "2020-03-22   1832.500000\n",
      "...                  ...\n",
      "2020-11-02  47958.000000\n",
      "2020-11-03  48966.666667\n",
      "2020-11-04  50483.666667\n",
      "2020-11-05  52047.666667\n",
      "2020-11-06  53526.666667\n",
      "\n",
      "[234 rows x 1 columns]\n",
      "test:              Hospitalized\n",
      "date                     \n",
      "2020-11-07   54817.000000\n",
      "2020-11-08   55976.000000\n",
      "2020-11-09   57457.666667\n",
      "2020-11-10   59491.333333\n",
      "2020-11-11   62363.000000\n",
      "2020-11-12   64976.000000\n",
      "2020-11-13   67129.666667\n",
      "2020-11-14   68473.333333\n",
      "2020-11-15   69463.000000\n",
      "2020-11-16   71055.666667\n",
      "2020-11-17   73552.666667\n",
      "2020-11-18   76657.666667\n",
      "2020-11-19   79092.666667\n",
      "2020-11-20   80826.000000\n",
      "2020-11-21   82102.333333\n",
      "2020-11-22   83169.000000\n",
      "2020-11-23   84402.333333\n",
      "2020-11-24   86011.666667\n",
      "2020-11-25   88064.666667\n",
      "2020-11-26   89593.000000\n",
      "2020-11-27   90185.000000\n",
      "2020-11-28   90758.666667\n",
      "2020-11-29   91689.666667\n",
      "2020-11-30   93756.000000\n",
      "2020-12-01   96094.333333\n",
      "2020-12-02   98416.000000\n",
      "2020-12-03   99951.333333\n",
      "2020-12-04  100784.333333\n",
      "2020-12-05  101073.666667\n",
      "2020-12-06  101317.666667\n"
     ]
    }
   ],
   "source": [
    "print('train:',train)\n",
    "print('test:',test)"
   ]
  },
  {
   "cell_type": "code",
   "execution_count": 172,
   "id": "2a06e395",
   "metadata": {},
   "outputs": [],
   "source": [
    "import itertools"
   ]
  },
  {
   "cell_type": "markdown",
   "id": "ae639671",
   "metadata": {},
   "source": [
    "**ARIMA**"
   ]
  },
  {
   "cell_type": "code",
   "execution_count": 173,
   "id": "8e6c9517",
   "metadata": {},
   "outputs": [],
   "source": [
    "from statsmodels.tsa.arima_model import ARIMA"
   ]
  },
  {
   "cell_type": "code",
   "execution_count": 174,
   "id": "0dce86fa",
   "metadata": {},
   "outputs": [
    {
     "data": {
      "text/plain": [
       "[(0, 0, 0),\n",
       " (0, 0, 1),\n",
       " (0, 1, 0),\n",
       " (0, 1, 1),\n",
       " (1, 0, 0),\n",
       " (1, 0, 1),\n",
       " (1, 1, 0),\n",
       " (1, 1, 1)]"
      ]
     },
     "execution_count": 174,
     "metadata": {},
     "output_type": "execute_result"
    }
   ],
   "source": [
    "p = q = range(0,2)\n",
    "d= range(0,2)\n",
    "pdq = list(itertools.product(p,d,q))\n",
    "\n",
    "model_pdq = [(x[0],x[1],x[2],7)     for x in pdq ]\n",
    "pdq"
   ]
  },
  {
   "cell_type": "code",
   "execution_count": 175,
   "id": "ca02fe16",
   "metadata": {},
   "outputs": [
    {
     "data": {
      "text/plain": [
       "[(0, 0, 0, 7),\n",
       " (0, 0, 1, 7),\n",
       " (0, 1, 0, 7),\n",
       " (0, 1, 1, 7),\n",
       " (1, 0, 0, 7),\n",
       " (1, 0, 1, 7),\n",
       " (1, 1, 0, 7),\n",
       " (1, 1, 1, 7)]"
      ]
     },
     "execution_count": 175,
     "metadata": {},
     "output_type": "execute_result"
    }
   ],
   "source": [
    "model_pdq"
   ]
  },
  {
   "cell_type": "code",
   "execution_count": 176,
   "id": "9ee6f7dc",
   "metadata": {},
   "outputs": [],
   "source": [
    "dfobj = pd.DataFrame(columns=['param','AIC'])"
   ]
  },
  {
   "cell_type": "code",
   "execution_count": 177,
   "id": "1b1b838c",
   "metadata": {},
   "outputs": [
    {
     "name": "stdout",
     "output_type": "stream",
     "text": [
      "ARIMA(0, 0, 0) - AIC:5112.483435114683\n",
      "ARIMA(0, 0, 1) - AIC:4802.461008774172\n",
      "ARIMA(0, 1, 0) - AIC:3930.352086601976\n",
      "ARIMA(0, 1, 1) - AIC:3726.4030958262715\n",
      "ARIMA(1, 0, 0) - AIC:3965.805413710356\n",
      "ARIMA(1, 1, 0) - AIC:3479.0270344183573\n",
      "ARIMA(1, 1, 1) - AIC:3467.3115952214366\n"
     ]
    }
   ],
   "source": [
    "for param in pdq:\n",
    "    try:\n",
    "        arima_mod = ARIMA(train,order=param)\n",
    "        a=arima_mod.fit()\n",
    "        print('ARIMA{} - AIC:{}'.format(param,a.aic))\n",
    "        dfobj=dfobj.append({'param':param,'AIC':a.aic},ignore_index=True)\n",
    "    except:\n",
    "        continue\n",
    "    \n",
    "    "
   ]
  },
  {
   "cell_type": "code",
   "execution_count": 178,
   "id": "c07ba2ab",
   "metadata": {},
   "outputs": [
    {
     "data": {
      "text/html": [
       "<div>\n",
       "<style scoped>\n",
       "    .dataframe tbody tr th:only-of-type {\n",
       "        vertical-align: middle;\n",
       "    }\n",
       "\n",
       "    .dataframe tbody tr th {\n",
       "        vertical-align: top;\n",
       "    }\n",
       "\n",
       "    .dataframe thead th {\n",
       "        text-align: right;\n",
       "    }\n",
       "</style>\n",
       "<table border=\"1\" class=\"dataframe\">\n",
       "  <thead>\n",
       "    <tr style=\"text-align: right;\">\n",
       "      <th></th>\n",
       "      <th>param</th>\n",
       "      <th>AIC</th>\n",
       "    </tr>\n",
       "  </thead>\n",
       "  <tbody>\n",
       "    <tr>\n",
       "      <th>6</th>\n",
       "      <td>(1, 1, 1)</td>\n",
       "      <td>3467.311595</td>\n",
       "    </tr>\n",
       "    <tr>\n",
       "      <th>5</th>\n",
       "      <td>(1, 1, 0)</td>\n",
       "      <td>3479.027034</td>\n",
       "    </tr>\n",
       "    <tr>\n",
       "      <th>3</th>\n",
       "      <td>(0, 1, 1)</td>\n",
       "      <td>3726.403096</td>\n",
       "    </tr>\n",
       "    <tr>\n",
       "      <th>2</th>\n",
       "      <td>(0, 1, 0)</td>\n",
       "      <td>3930.352087</td>\n",
       "    </tr>\n",
       "    <tr>\n",
       "      <th>4</th>\n",
       "      <td>(1, 0, 0)</td>\n",
       "      <td>3965.805414</td>\n",
       "    </tr>\n",
       "    <tr>\n",
       "      <th>1</th>\n",
       "      <td>(0, 0, 1)</td>\n",
       "      <td>4802.461009</td>\n",
       "    </tr>\n",
       "    <tr>\n",
       "      <th>0</th>\n",
       "      <td>(0, 0, 0)</td>\n",
       "      <td>5112.483435</td>\n",
       "    </tr>\n",
       "  </tbody>\n",
       "</table>\n",
       "</div>"
      ],
      "text/plain": [
       "       param          AIC\n",
       "6  (1, 1, 1)  3467.311595\n",
       "5  (1, 1, 0)  3479.027034\n",
       "3  (0, 1, 1)  3726.403096\n",
       "2  (0, 1, 0)  3930.352087\n",
       "4  (1, 0, 0)  3965.805414\n",
       "1  (0, 0, 1)  4802.461009\n",
       "0  (0, 0, 0)  5112.483435"
      ]
     },
     "execution_count": 178,
     "metadata": {},
     "output_type": "execute_result"
    }
   ],
   "source": [
    "dfobj.sort_values(by='AIC')"
   ]
  },
  {
   "cell_type": "code",
   "execution_count": 179,
   "id": "756faf9f",
   "metadata": {},
   "outputs": [
    {
     "data": {
      "text/html": [
       "<table class=\"simpletable\">\n",
       "<caption>ARIMA Model Results</caption>\n",
       "<tr>\n",
       "  <th>Dep. Variable:</th>  <td>D.Hospitalized</td>  <th>  No. Observations:  </th>    <td>233</td>   \n",
       "</tr>\n",
       "<tr>\n",
       "  <th>Model:</th>          <td>ARIMA(1, 1, 1)</td>  <th>  Log Likelihood     </th> <td>-1729.656</td>\n",
       "</tr>\n",
       "<tr>\n",
       "  <th>Method:</th>             <td>css-mle</td>     <th>  S.D. of innovations</th>  <td>403.473</td> \n",
       "</tr>\n",
       "<tr>\n",
       "  <th>Date:</th>          <td>Tue, 23 Nov 2021</td> <th>  AIC                </th> <td>3467.312</td> \n",
       "</tr>\n",
       "<tr>\n",
       "  <th>Time:</th>              <td>22:59:43</td>     <th>  BIC                </th> <td>3481.116</td> \n",
       "</tr>\n",
       "<tr>\n",
       "  <th>Sample:</th>           <td>03-19-2020</td>    <th>  HQIC               </th> <td>3472.878</td> \n",
       "</tr>\n",
       "<tr>\n",
       "  <th></th>                 <td>- 11-06-2020</td>   <th>                     </th>     <td> </td>    \n",
       "</tr>\n",
       "</table>\n",
       "<table class=\"simpletable\">\n",
       "<tr>\n",
       "            <td></td>              <th>coef</th>     <th>std err</th>      <th>z</th>      <th>P>|z|</th>  <th>[0.025</th>    <th>0.975]</th>  \n",
       "</tr>\n",
       "<tr>\n",
       "  <th>const</th>                <td>  265.9069</td> <td>  305.416</td> <td>    0.871</td> <td> 0.384</td> <td> -332.698</td> <td>  864.512</td>\n",
       "</tr>\n",
       "<tr>\n",
       "  <th>ar.L1.D.Hospitalized</th> <td>    0.8996</td> <td>    0.029</td> <td>   30.949</td> <td> 0.000</td> <td>    0.843</td> <td>    0.957</td>\n",
       "</tr>\n",
       "<tr>\n",
       "  <th>ma.L1.D.Hospitalized</th> <td>    0.2033</td> <td>    0.051</td> <td>    3.993</td> <td> 0.000</td> <td>    0.104</td> <td>    0.303</td>\n",
       "</tr>\n",
       "</table>\n",
       "<table class=\"simpletable\">\n",
       "<caption>Roots</caption>\n",
       "<tr>\n",
       "    <td></td>   <th>            Real</th>  <th>         Imaginary</th> <th>         Modulus</th>  <th>        Frequency</th>\n",
       "</tr>\n",
       "<tr>\n",
       "  <th>AR.1</th> <td>           1.1115</td> <td>          +0.0000j</td> <td>           1.1115</td> <td>           0.0000</td>\n",
       "</tr>\n",
       "<tr>\n",
       "  <th>MA.1</th> <td>          -4.9179</td> <td>          +0.0000j</td> <td>           4.9179</td> <td>           0.5000</td>\n",
       "</tr>\n",
       "</table>"
      ],
      "text/plain": [
       "<class 'statsmodels.iolib.summary.Summary'>\n",
       "\"\"\"\n",
       "                             ARIMA Model Results                              \n",
       "==============================================================================\n",
       "Dep. Variable:         D.Hospitalized   No. Observations:                  233\n",
       "Model:                 ARIMA(1, 1, 1)   Log Likelihood               -1729.656\n",
       "Method:                       css-mle   S.D. of innovations            403.473\n",
       "Date:                Tue, 23 Nov 2021   AIC                           3467.312\n",
       "Time:                        22:59:43   BIC                           3481.116\n",
       "Sample:                    03-19-2020   HQIC                          3472.878\n",
       "                         - 11-06-2020                                         \n",
       "========================================================================================\n",
       "                           coef    std err          z      P>|z|      [0.025      0.975]\n",
       "----------------------------------------------------------------------------------------\n",
       "const                  265.9069    305.416      0.871      0.384    -332.698     864.512\n",
       "ar.L1.D.Hospitalized     0.8996      0.029     30.949      0.000       0.843       0.957\n",
       "ma.L1.D.Hospitalized     0.2033      0.051      3.993      0.000       0.104       0.303\n",
       "                                    Roots                                    \n",
       "=============================================================================\n",
       "                  Real          Imaginary           Modulus         Frequency\n",
       "-----------------------------------------------------------------------------\n",
       "AR.1            1.1115           +0.0000j            1.1115            0.0000\n",
       "MA.1           -4.9179           +0.0000j            4.9179            0.5000\n",
       "-----------------------------------------------------------------------------\n",
       "\"\"\""
      ]
     },
     "execution_count": 179,
     "metadata": {},
     "output_type": "execute_result"
    }
   ],
   "source": [
    "arima = ARIMA(train,order=(1,1,1))\n",
    "a=arima.fit()\n",
    "a.summary()"
   ]
  },
  {
   "cell_type": "code",
   "execution_count": 180,
   "id": "35f97d14",
   "metadata": {},
   "outputs": [],
   "source": [
    "pred_start = test.index[0]\n",
    "pred_end = test.index[-1]"
   ]
  },
  {
   "cell_type": "code",
   "execution_count": 181,
   "id": "78a9ead6",
   "metadata": {},
   "outputs": [
    {
     "data": {
      "text/plain": [
       "2020-11-07    1363.621397\n",
       "2020-11-08    1253.461377\n",
       "2020-11-09    1154.356353\n",
       "2020-11-10    1065.196913\n",
       "2020-11-11     984.984977\n",
       "2020-11-12     912.822629\n",
       "2020-11-13     847.902059\n",
       "2020-11-14     789.496527\n",
       "2020-11-15     736.952223\n",
       "2020-11-16     689.680948\n",
       "2020-11-17     647.153535\n",
       "2020-11-18     608.893916\n",
       "2020-11-19     574.473803\n",
       "2020-11-20     543.507885\n",
       "2020-11-21     515.649520\n",
       "2020-11-22     490.586853\n",
       "2020-11-23     468.039324\n",
       "2020-11-24     447.754529\n",
       "2020-11-25     429.505395\n",
       "2020-11-26     413.087634\n",
       "2020-11-27     398.317460\n",
       "2020-11-28     385.029532\n",
       "2020-11-29     373.075101\n",
       "2020-11-30     362.320344\n",
       "2020-12-01     352.644870\n",
       "2020-12-02     343.940368\n",
       "2020-12-03     336.109398\n",
       "2020-12-04     329.064297\n",
       "2020-12-05     322.726200\n",
       "2020-12-06     317.024156\n",
       "Freq: D, dtype: float64"
      ]
     },
     "execution_count": 181,
     "metadata": {},
     "output_type": "execute_result"
    }
   ],
   "source": [
    "predictions = a.predict(start=pred_start,end=pred_end)\n",
    "predictions"
   ]
  },
  {
   "cell_type": "code",
   "execution_count": 182,
   "id": "970021b5",
   "metadata": {},
   "outputs": [
    {
     "data": {
      "text/plain": [
       "(array([54890.288064  , 56143.74944089, 57298.10579388, 58363.30270661,\n",
       "        59348.28768383, 60261.11031254, 61109.01237168, 61898.50889881,\n",
       "        62635.46112157, 63325.14207005, 63972.29560479, 64581.18952105,\n",
       "        65155.66332384, 65699.17120855, 66214.82072833, 66705.40758098,\n",
       "        67173.44690493, 67621.20143443, 68050.70682934, 68463.79446296,\n",
       "        68862.11192299, 69247.14145515, 69620.21655589, 69982.53689999,\n",
       "        70335.18177009, 70679.12213851, 71015.23153665, 71344.29583355,\n",
       "        71667.02203317, 71984.04618879]),\n",
       " array([  403.4726319 ,   939.54090829,  1562.81519825,  2243.08372578,\n",
       "         2961.12331289,  3703.66507456,  4461.12996526,  5226.41712584,\n",
       "         5994.17942393,  6760.35599337,  7521.85360995,  8276.32049044,\n",
       "         9021.98065494,  9757.50969405, 10481.93982068, 11194.5862128 ,\n",
       "        11894.98918857, 12582.86837612, 13258.08611199, 13920.6180325 ,\n",
       "        14570.52933233, 15207.95552905, 15833.08683766, 16446.15545633,\n",
       "        17047.42521214, 17637.18312902, 18215.73256693, 18783.38764936,\n",
       "        19340.46874988, 19887.29885073]),\n",
       " array([[ 54099.49623674,  55681.07989127],\n",
       "        [ 54302.28309863,  57985.21578314],\n",
       "        [ 54235.0442908 ,  60361.16729695],\n",
       "        [ 53966.93938977,  62759.66602345],\n",
       "        [ 53544.59263677,  65151.98273088],\n",
       "        [ 53002.06015561,  67520.16046948],\n",
       "        [ 52365.35830941,  69852.66643395],\n",
       "        [ 51654.91956399,  72142.09823363],\n",
       "        [ 50887.0853338 ,  74383.83690934],\n",
       "        [ 50075.08780037,  76575.19633972],\n",
       "        [ 49229.7334323 ,  78714.85777728],\n",
       "        [ 48359.89943528,  80802.47960682],\n",
       "        [ 47472.90617094,  82838.42047673],\n",
       "        [ 46574.80362941,  84823.53878769],\n",
       "        [ 45670.59619167,  86759.04526498],\n",
       "        [ 44764.42178207,  88646.39337989],\n",
       "        [ 43859.69649884,  90487.19731102],\n",
       "        [ 42959.23259502,  92283.17027383],\n",
       "        [ 42065.3355459 ,  94036.07811277],\n",
       "        [ 41179.88447673,  95747.70444919],\n",
       "        [ 40304.39919594,  97419.82465004],\n",
       "        [ 39440.09633974,  99054.18657057],\n",
       "        [ 38587.93658997, 100652.49652181],\n",
       "        [ 37748.66452143, 102216.40927855],\n",
       "        [ 36922.84232515, 103747.52121502],\n",
       "        [ 36110.87841689, 105247.36586013],\n",
       "        [ 35313.05175346, 106717.41131984],\n",
       "        [ 34529.53253315, 108159.05913395],\n",
       "        [ 33760.39983927, 109573.64422707],\n",
       "        [ 33005.65669156, 110962.43568601]]))"
      ]
     },
     "execution_count": 182,
     "metadata": {},
     "output_type": "execute_result"
    }
   ],
   "source": [
    "forecast = a.forecast(len(test))\n",
    "forecast"
   ]
  },
  {
   "cell_type": "code",
   "execution_count": 183,
   "id": "2f00731d",
   "metadata": {},
   "outputs": [
    {
     "data": {
      "text/html": [
       "<div>\n",
       "<style scoped>\n",
       "    .dataframe tbody tr th:only-of-type {\n",
       "        vertical-align: middle;\n",
       "    }\n",
       "\n",
       "    .dataframe tbody tr th {\n",
       "        vertical-align: top;\n",
       "    }\n",
       "\n",
       "    .dataframe thead th {\n",
       "        text-align: right;\n",
       "    }\n",
       "</style>\n",
       "<table border=\"1\" class=\"dataframe\">\n",
       "  <thead>\n",
       "    <tr style=\"text-align: right;\">\n",
       "      <th></th>\n",
       "      <th>Hospitalized</th>\n",
       "      <th>Hospitalized_Forecast</th>\n",
       "    </tr>\n",
       "    <tr>\n",
       "      <th>date</th>\n",
       "      <th></th>\n",
       "      <th></th>\n",
       "    </tr>\n",
       "  </thead>\n",
       "  <tbody>\n",
       "    <tr>\n",
       "      <th>2020-11-07</th>\n",
       "      <td>54817.000000</td>\n",
       "      <td>54890.288064</td>\n",
       "    </tr>\n",
       "    <tr>\n",
       "      <th>2020-11-08</th>\n",
       "      <td>55976.000000</td>\n",
       "      <td>56143.749441</td>\n",
       "    </tr>\n",
       "    <tr>\n",
       "      <th>2020-11-09</th>\n",
       "      <td>57457.666667</td>\n",
       "      <td>57298.105794</td>\n",
       "    </tr>\n",
       "    <tr>\n",
       "      <th>2020-11-10</th>\n",
       "      <td>59491.333333</td>\n",
       "      <td>58363.302707</td>\n",
       "    </tr>\n",
       "    <tr>\n",
       "      <th>2020-11-11</th>\n",
       "      <td>62363.000000</td>\n",
       "      <td>59348.287684</td>\n",
       "    </tr>\n",
       "  </tbody>\n",
       "</table>\n",
       "</div>"
      ],
      "text/plain": [
       "            Hospitalized  Hospitalized_Forecast\n",
       "date                                           \n",
       "2020-11-07  54817.000000           54890.288064\n",
       "2020-11-08  55976.000000           56143.749441\n",
       "2020-11-09  57457.666667           57298.105794\n",
       "2020-11-10  59491.333333           58363.302707\n",
       "2020-11-11  62363.000000           59348.287684"
      ]
     },
     "execution_count": 183,
     "metadata": {},
     "output_type": "execute_result"
    }
   ],
   "source": [
    "df_fc = test.copy()\n",
    "df_fc['Hospitalized_Forecast'] = forecast[0]\n",
    "df_fc.head()"
   ]
  },
  {
   "cell_type": "code",
   "execution_count": 192,
   "id": "10b599da",
   "metadata": {},
   "outputs": [
    {
     "data": {
      "image/png": "[encoded data removed]",
      "text/plain": [
       "<Figure size 720x576 with 1 Axes>"
      ]
     },
     "metadata": {
      "needs_background": "light"
     },
     "output_type": "display_data"
    }
   ],
   "source": [
    "plt.figure(figsize=(10,8))\n",
    "plt.plot(train,label='Training Data')\n",
    "plt.plot(test,label='Test Data')\n",
    "plt.plot(df_fc.index,df_fc['Hospitalized_Forecast'],label='Predicted Data')\n",
    "plt.legend()\n",
    "plt.show()"
   ]
  },
  {
   "cell_type": "code",
   "execution_count": 195,
   "id": "a3dc0cc9",
   "metadata": {},
   "outputs": [],
   "source": [
    "from statsmodels.graphics.gofplots import qqplot"
   ]
  },
  {
   "cell_type": "code",
   "execution_count": 196,
   "id": "aa928b17",
   "metadata": {},
   "outputs": [],
   "source": [
    "residuals = df_fc['Hospitalized'] - df_fc['Hospitalized_Forecast']"
   ]
  },
  {
   "cell_type": "code",
   "execution_count": 200,
   "id": "b609da65",
   "metadata": {},
   "outputs": [
    {
     "data": {
      "image/png": "[encoded data removed]",
      "text/plain": [
       "<Figure size 432x288 with 1 Axes>"
      ]
     },
     "metadata": {
      "needs_background": "light"
     },
     "output_type": "display_data"
    }
   ],
   "source": [
    "qqplot(residuals,line='r');"
   ]
  },
  {
   "cell_type": "code",
   "execution_count": 206,
   "id": "c6cdea96",
   "metadata": {},
   "outputs": [
    {
     "data": {
      "text/plain": [
       "17996.70429485404"
      ]
     },
     "execution_count": 206,
     "metadata": {},
     "output_type": "execute_result"
    }
   ],
   "source": [
    "from sklearn.metrics import mean_squared_error\n",
    "mean_squared_error(df_fc['Hospitalized'],df_fc['Hospitalized_Forecast'],squared=False)"
   ]
  },
  {
   "cell_type": "code",
   "execution_count": 201,
   "id": "96a0cf16",
   "metadata": {},
   "outputs": [],
   "source": [
    "def MAPE(ytrue,ypred):\n",
    "    return np.mean((np.abs(ytrue-ypred))/ytrue)*100"
   ]
  },
  {
   "cell_type": "code",
   "execution_count": 203,
   "id": "8b401a9b",
   "metadata": {},
   "outputs": [
    {
     "data": {
      "text/plain": [
       "17.143716256719696"
      ]
     },
     "execution_count": 203,
     "metadata": {},
     "output_type": "execute_result"
    }
   ],
   "source": [
    "MAPE(df_fc['Hospitalized'],df_fc['Hospitalized_Forecast'])"
   ]
  },
  {
   "cell_type": "markdown",
   "id": "c95c6148",
   "metadata": {},
   "source": [
    "**SARIMA**"
   ]
  },
  {
   "cell_type": "code",
   "execution_count": 218,
   "id": "bc2f918c",
   "metadata": {},
   "outputs": [
    {
     "data": {
      "text/html": [
       "<div>\n",
       "<style scoped>\n",
       "    .dataframe tbody tr th:only-of-type {\n",
       "        vertical-align: middle;\n",
       "    }\n",
       "\n",
       "    .dataframe tbody tr th {\n",
       "        vertical-align: top;\n",
       "    }\n",
       "\n",
       "    .dataframe thead th {\n",
       "        text-align: right;\n",
       "    }\n",
       "</style>\n",
       "<table border=\"1\" class=\"dataframe\">\n",
       "  <thead>\n",
       "    <tr style=\"text-align: right;\">\n",
       "      <th></th>\n",
       "      <th>param</th>\n",
       "      <th>seasonal</th>\n",
       "      <th>AIC</th>\n",
       "    </tr>\n",
       "  </thead>\n",
       "  <tbody>\n",
       "  </tbody>\n",
       "</table>\n",
       "</div>"
      ],
      "text/plain": [
       "Empty DataFrame\n",
       "Columns: [param, seasonal, AIC]\n",
       "Index: []"
      ]
     },
     "execution_count": 218,
     "metadata": {},
     "output_type": "execute_result"
    }
   ],
   "source": [
    "dfobj1 = pd.DataFrame(columns=['param','seasonal','AIC'])\n",
    "dfobj1.head()"
   ]
  },
  {
   "cell_type": "code",
   "execution_count": 219,
   "id": "da2fb673",
   "metadata": {},
   "outputs": [],
   "source": [
    "from statsmodels.tsa.statespace.sarimax import SARIMAX\n",
    "import statsmodels.api as sm"
   ]
  },
  {
   "cell_type": "code",
   "execution_count": 223,
   "id": "b74e697d",
   "metadata": {},
   "outputs": [],
   "source": [
    "for param in pdq:\n",
    "    for param_seasonal in model_pdq:\n",
    "        mod = sm.tsa.statespace.SARIMAX(train,\n",
    "                                        order=param,\n",
    "                                        seasonal_order=param_seasonal,\n",
    "                                        enforce_stationarity=False,\n",
    "                                        enforce_invertibility=False)\n",
    "        model = mod.fit()\n",
    "        dfobj1 = dfobj1.append({'param':param,'seasonal':param_seasonal,'AIC':model.aic},ignore_index=True)\n",
    "        dfobj1.head()\n",
    "        "
   ]
  },
  {
   "cell_type": "code",
   "execution_count": 226,
   "id": "457490be",
   "metadata": {},
   "outputs": [
    {
     "data": {
      "text/html": [
       "<div>\n",
       "<style scoped>\n",
       "    .dataframe tbody tr th:only-of-type {\n",
       "        vertical-align: middle;\n",
       "    }\n",
       "\n",
       "    .dataframe tbody tr th {\n",
       "        vertical-align: top;\n",
       "    }\n",
       "\n",
       "    .dataframe thead th {\n",
       "        text-align: right;\n",
       "    }\n",
       "</style>\n",
       "<table border=\"1\" class=\"dataframe\">\n",
       "  <thead>\n",
       "    <tr style=\"text-align: right;\">\n",
       "      <th></th>\n",
       "      <th>param</th>\n",
       "      <th>seasonal</th>\n",
       "      <th>AIC</th>\n",
       "    </tr>\n",
       "  </thead>\n",
       "  <tbody>\n",
       "    <tr>\n",
       "      <th>63</th>\n",
       "      <td>(1, 1, 1)</td>\n",
       "      <td>(1, 1, 1, 7)</td>\n",
       "      <td>3159.694463</td>\n",
       "    </tr>\n",
       "    <tr>\n",
       "      <th>59</th>\n",
       "      <td>(1, 1, 1)</td>\n",
       "      <td>(0, 1, 1, 7)</td>\n",
       "      <td>3164.254034</td>\n",
       "    </tr>\n",
       "    <tr>\n",
       "      <th>55</th>\n",
       "      <td>(1, 1, 0)</td>\n",
       "      <td>(1, 1, 1, 7)</td>\n",
       "      <td>3172.427893</td>\n",
       "    </tr>\n",
       "    <tr>\n",
       "      <th>51</th>\n",
       "      <td>(1, 1, 0)</td>\n",
       "      <td>(0, 1, 1, 7)</td>\n",
       "      <td>3176.696769</td>\n",
       "    </tr>\n",
       "    <tr>\n",
       "      <th>54</th>\n",
       "      <td>(1, 1, 0)</td>\n",
       "      <td>(1, 1, 0, 7)</td>\n",
       "      <td>3205.232302</td>\n",
       "    </tr>\n",
       "    <tr>\n",
       "      <th>...</th>\n",
       "      <td>...</td>\n",
       "      <td>...</td>\n",
       "      <td>...</td>\n",
       "    </tr>\n",
       "    <tr>\n",
       "      <th>9</th>\n",
       "      <td>(0, 0, 1)</td>\n",
       "      <td>(0, 0, 1, 7)</td>\n",
       "      <td>5230.315488</td>\n",
       "    </tr>\n",
       "    <tr>\n",
       "      <th>12</th>\n",
       "      <td>(0, 0, 1)</td>\n",
       "      <td>(1, 0, 0, 7)</td>\n",
       "      <td>5260.307411</td>\n",
       "    </tr>\n",
       "    <tr>\n",
       "      <th>1</th>\n",
       "      <td>(0, 0, 0)</td>\n",
       "      <td>(0, 0, 1, 7)</td>\n",
       "      <td>5304.313104</td>\n",
       "    </tr>\n",
       "    <tr>\n",
       "      <th>8</th>\n",
       "      <td>(0, 0, 1)</td>\n",
       "      <td>(0, 0, 0, 7)</td>\n",
       "      <td>5430.396364</td>\n",
       "    </tr>\n",
       "    <tr>\n",
       "      <th>0</th>\n",
       "      <td>(0, 0, 0)</td>\n",
       "      <td>(0, 0, 0, 7)</td>\n",
       "      <td>5623.392992</td>\n",
       "    </tr>\n",
       "  </tbody>\n",
       "</table>\n",
       "<p>64 rows × 3 columns</p>\n",
       "</div>"
      ],
      "text/plain": [
       "        param      seasonal          AIC\n",
       "63  (1, 1, 1)  (1, 1, 1, 7)  3159.694463\n",
       "59  (1, 1, 1)  (0, 1, 1, 7)  3164.254034\n",
       "55  (1, 1, 0)  (1, 1, 1, 7)  3172.427893\n",
       "51  (1, 1, 0)  (0, 1, 1, 7)  3176.696769\n",
       "54  (1, 1, 0)  (1, 1, 0, 7)  3205.232302\n",
       "..        ...           ...          ...\n",
       "9   (0, 0, 1)  (0, 0, 1, 7)  5230.315488\n",
       "12  (0, 0, 1)  (1, 0, 0, 7)  5260.307411\n",
       "1   (0, 0, 0)  (0, 0, 1, 7)  5304.313104\n",
       "8   (0, 0, 1)  (0, 0, 0, 7)  5430.396364\n",
       "0   (0, 0, 0)  (0, 0, 0, 7)  5623.392992\n",
       "\n",
       "[64 rows x 3 columns]"
      ]
     },
     "execution_count": 226,
     "metadata": {},
     "output_type": "execute_result"
    }
   ],
   "source": [
    "dfobj1.sort_values(by='AIC')"
   ]
  },
  {
   "cell_type": "code",
   "execution_count": 228,
   "id": "2845a468",
   "metadata": {},
   "outputs": [],
   "source": [
    "sar = SARIMAX(train,\n",
    "             order=(1,1,1),\n",
    "             seasonal_order=(1,1,1,7),\n",
    "             enforce_stationarity=False,\n",
    "             enforce_invertibility=False)\n",
    "sar_mod = sar.fit()"
   ]
  },
  {
   "cell_type": "code",
   "execution_count": 230,
   "id": "dd93d226",
   "metadata": {},
   "outputs": [
    {
     "data": {
      "text/plain": [
       "2020-11-07    54769.585641\n",
       "2020-11-08    55722.277317\n",
       "2020-11-09    56781.271815\n",
       "2020-11-10    58186.689458\n",
       "2020-11-11    59867.605823\n",
       "2020-11-12    61470.156964\n",
       "2020-11-13    62727.141407\n",
       "2020-11-14    63722.462321\n",
       "2020-11-15    64449.096289\n",
       "2020-11-16    65288.098367\n",
       "2020-11-17    66487.124913\n",
       "2020-11-18    67933.162677\n",
       "2020-11-19    69292.345586\n",
       "2020-11-20    70270.061944\n",
       "2020-11-21    70995.275762\n",
       "2020-11-22    71469.330665\n",
       "2020-11-23    72069.454871\n",
       "2020-11-24    73044.027211\n",
       "2020-11-25    74271.094771\n",
       "2020-11-26    75420.039238\n",
       "2020-11-27    76190.262906\n",
       "2020-11-28    76718.957572\n",
       "2020-11-29    77008.552093\n",
       "2020-11-30    77435.007757\n",
       "2020-12-01    78246.357503\n",
       "2020-12-02    79318.441751\n",
       "2020-12-03    80320.847043\n",
       "2020-12-04    80951.400142\n",
       "2020-12-05    81348.522016\n",
       "2020-12-06    81514.496360\n",
       "Freq: D, Name: predicted_mean, dtype: float64"
      ]
     },
     "execution_count": 230,
     "metadata": {},
     "output_type": "execute_result"
    }
   ],
   "source": [
    "sar_predict = sar_mod.predict(start=pred_start,end=pred_end)\n",
    "sar_predict"
   ]
  },
  {
   "cell_type": "code",
   "execution_count": 231,
   "id": "bbeaae17",
   "metadata": {},
   "outputs": [],
   "source": [
    "df_fc['sar_forecast'] = sar_predict"
   ]
  },
  {
   "cell_type": "code",
   "execution_count": 232,
   "id": "c76608cd",
   "metadata": {},
   "outputs": [
    {
     "data": {
      "text/plain": [
       "12307.652502164136"
      ]
     },
     "execution_count": 232,
     "metadata": {},
     "output_type": "execute_result"
    }
   ],
   "source": [
    "mean_squared_error(df_fc['Hospitalized'],df_fc['sar_forecast'],squared=False)"
   ]
  },
  {
   "cell_type": "code",
   "execution_count": 233,
   "id": "b549134b",
   "metadata": {},
   "outputs": [
    {
     "data": {
      "text/plain": [
       "11.93694332198674"
      ]
     },
     "execution_count": 233,
     "metadata": {},
     "output_type": "execute_result"
    }
   ],
   "source": [
    "MAPE(df_fc['Hospitalized'],df_fc['sar_forecast'])"
   ]
  },
  {
   "cell_type": "code",
   "execution_count": 234,
   "id": "c31343d6",
   "metadata": {},
   "outputs": [
    {
     "data": {
      "image/png": "[encoded data removed]",
      "text/plain": [
       "<Figure size 720x576 with 1 Axes>"
      ]
     },
     "metadata": {
      "needs_background": "light"
     },
     "output_type": "display_data"
    }
   ],
   "source": [
    "plt.figure(figsize=(10,8))\n",
    "plt.plot(train,label='Training Data')\n",
    "plt.plot(test,label='Test Data')\n",
    "plt.plot(df_fc.index,df_fc['Hospitalized_Forecast'],label='ARIMA_Predicted Data')\n",
    "plt.plot(df_fc.index,df_fc['sar_forecast'],label='SARIMA_predicted Data')\n",
    "plt.legend()\n",
    "plt.show()"
   ]
  },
  {
   "cell_type": "code",
   "execution_count": 236,
   "id": "6a2c0cbb",
   "metadata": {},
   "outputs": [],
   "source": [
    "residuals1 = df_fc['Hospitalized'] - df_fc['sar_forecast']"
   ]
  },
  {
   "cell_type": "code",
   "execution_count": 238,
   "id": "a2fcd38b",
   "metadata": {},
   "outputs": [
    {
     "data": {
      "image/png": "[encoded data removed]",
      "text/plain": [
       "<Figure size 1008x720 with 4 Axes>"
      ]
     },
     "metadata": {
      "needs_background": "light"
     },
     "output_type": "display_data"
    }
   ],
   "source": [
    "sar_mod.plot_diagnostics(figsize=(14,10))\n",
    "plt.show()"
   ]
  },
  {
   "cell_type": "markdown",
   "id": "50faa18b",
   "metadata": {},
   "source": [
    "**TRIPLE EXPONENTIAL SMOOTHING**"
   ]
  },
  {
   "cell_type": "code",
   "execution_count": 239,
   "id": "644038bf",
   "metadata": {},
   "outputs": [],
   "source": [
    "from statsmodels.tsa.api import ExponentialSmoothing"
   ]
  },
  {
   "cell_type": "code",
   "execution_count": 241,
   "id": "72ce6350",
   "metadata": {},
   "outputs": [],
   "source": [
    "tes = ExponentialSmoothing(train,trend='additive',seasonal='additive',initialization_method='estimated')"
   ]
  },
  {
   "cell_type": "code",
   "execution_count": 249,
   "id": "8572ae12",
   "metadata": {},
   "outputs": [
    {
     "data": {
      "text/html": [
       "<table class=\"simpletable\">\n",
       "<caption>ExponentialSmoothing Model Results</caption>\n",
       "<tr>\n",
       "  <th>Dep. Variable:</th>        <td>Hospitalized</td>     <th>  No. Observations:  </th>        <td>234</td>      \n",
       "</tr>\n",
       "<tr>\n",
       "  <th>Model:</th>            <td>ExponentialSmoothing</td> <th>  SSE                </th>   <td>29466957.348</td>  \n",
       "</tr>\n",
       "<tr>\n",
       "  <th>Optimized:</th>                <td>True</td>         <th>  AIC                </th>     <td>2769.969</td>    \n",
       "</tr>\n",
       "<tr>\n",
       "  <th>Trend:</th>                  <td>Additive</td>       <th>  BIC                </th>     <td>2807.978</td>    \n",
       "</tr>\n",
       "<tr>\n",
       "  <th>Seasonal:</th>               <td>Additive</td>       <th>  AICC               </th>     <td>2771.624</td>    \n",
       "</tr>\n",
       "<tr>\n",
       "  <th>Seasonal Periods:</th>           <td>7</td>          <th>  Date:              </th> <td>Tue, 23 Nov 2021</td>\n",
       "</tr>\n",
       "<tr>\n",
       "  <th>Box-Cox:</th>                  <td>False</td>        <th>  Time:              </th>     <td>23:59:02</td>    \n",
       "</tr>\n",
       "<tr>\n",
       "  <th>Box-Cox Coeff.:</th>           <td>None</td>         <th>                     </th>         <td> </td>       \n",
       "</tr>\n",
       "</table>\n",
       "<table class=\"simpletable\">\n",
       "<tr>\n",
       "           <td></td>                  <th>coeff</th>                <th>code</th>               <th>optimized</th>     \n",
       "</tr>\n",
       "<tr>\n",
       "  <th>smoothing_level</th>    <td>           0.9617319</td> <td>               alpha</td> <td>                True</td>\n",
       "</tr>\n",
       "<tr>\n",
       "  <th>smoothing_trend</th>    <td>           0.9572881</td> <td>                beta</td> <td>                True</td>\n",
       "</tr>\n",
       "<tr>\n",
       "  <th>smoothing_seasonal</th> <td>           0.0217723</td> <td>               gamma</td> <td>                True</td>\n",
       "</tr>\n",
       "<tr>\n",
       "  <th>initial_level</th>      <td>          -1242.1973</td> <td>                 l.0</td> <td>                True</td>\n",
       "</tr>\n",
       "<tr>\n",
       "  <th>initial_trend</th>      <td>           1461.1340</td> <td>                 b.0</td> <td>                True</td>\n",
       "</tr>\n",
       "<tr>\n",
       "  <th>initial_seasons.0</th>  <td>           101.26716</td> <td>                 s.0</td> <td>                True</td>\n",
       "</tr>\n",
       "<tr>\n",
       "  <th>initial_seasons.1</th>  <td>           485.19548</td> <td>                 s.1</td> <td>                True</td>\n",
       "</tr>\n",
       "<tr>\n",
       "  <th>initial_seasons.2</th>  <td>           423.45399</td> <td>                 s.2</td> <td>                True</td>\n",
       "</tr>\n",
       "<tr>\n",
       "  <th>initial_seasons.3</th>  <td>           174.77921</td> <td>                 s.3</td> <td>                True</td>\n",
       "</tr>\n",
       "<tr>\n",
       "  <th>initial_seasons.4</th>  <td>          -202.84362</td> <td>                 s.4</td> <td>                True</td>\n",
       "</tr>\n",
       "<tr>\n",
       "  <th>initial_seasons.5</th>  <td>          -464.81716</td> <td>                 s.5</td> <td>                True</td>\n",
       "</tr>\n",
       "<tr>\n",
       "  <th>initial_seasons.6</th>  <td>          -316.34788</td> <td>                 s.6</td> <td>                True</td>\n",
       "</tr>\n",
       "</table>"
      ],
      "text/plain": [
       "<class 'statsmodels.iolib.summary.Summary'>\n",
       "\"\"\"\n",
       "                       ExponentialSmoothing Model Results                       \n",
       "================================================================================\n",
       "Dep. Variable:             Hospitalized   No. Observations:                  234\n",
       "Model:             ExponentialSmoothing   SSE                       29466957.348\n",
       "Optimized:                         True   AIC                           2769.969\n",
       "Trend:                         Additive   BIC                           2807.978\n",
       "Seasonal:                      Additive   AICC                          2771.624\n",
       "Seasonal Periods:                     7   Date:                 Tue, 23 Nov 2021\n",
       "Box-Cox:                          False   Time:                         23:59:02\n",
       "Box-Cox Coeff.:                    None                                         \n",
       "=================================================================================\n",
       "                          coeff                 code              optimized      \n",
       "---------------------------------------------------------------------------------\n",
       "smoothing_level               0.9617319                alpha                 True\n",
       "smoothing_trend               0.9572881                 beta                 True\n",
       "smoothing_seasonal            0.0217723                gamma                 True\n",
       "initial_level                -1242.1973                  l.0                 True\n",
       "initial_trend                 1461.1340                  b.0                 True\n",
       "initial_seasons.0             101.26716                  s.0                 True\n",
       "initial_seasons.1             485.19548                  s.1                 True\n",
       "initial_seasons.2             423.45399                  s.2                 True\n",
       "initial_seasons.3             174.77921                  s.3                 True\n",
       "initial_seasons.4            -202.84362                  s.4                 True\n",
       "initial_seasons.5            -464.81716                  s.5                 True\n",
       "initial_seasons.6            -316.34788                  s.6                 True\n",
       "---------------------------------------------------------------------------------\n",
       "\"\"\""
      ]
     },
     "execution_count": 249,
     "metadata": {},
     "output_type": "execute_result"
    }
   ],
   "source": [
    "tes_model = tes.fit()\n",
    "tes_model.summary()"
   ]
  },
  {
   "cell_type": "code",
   "execution_count": 252,
   "id": "c817bc26",
   "metadata": {},
   "outputs": [
    {
     "data": {
      "text/plain": [
       "2020-11-07    54710.044379\n",
       "2020-11-08    55781.175667\n",
       "2020-11-09    57032.460886\n",
       "2020-11-10    58643.943445\n",
       "2020-11-11    60556.932831\n",
       "2020-11-12    62372.612848\n",
       "2020-11-13    63832.109488\n",
       "2020-11-14    65026.193908\n",
       "2020-11-15    66097.325197\n",
       "2020-11-16    67348.610416\n",
       "2020-11-17    68960.092975\n",
       "2020-11-18    70873.082361\n",
       "2020-11-19    72688.762378\n",
       "2020-11-20    74148.259018\n",
       "2020-11-21    75342.343438\n",
       "2020-11-22    76413.474727\n",
       "2020-11-23    77664.759946\n",
       "2020-11-24    79276.242505\n",
       "2020-11-25    81189.231891\n",
       "2020-11-26    83004.911908\n",
       "2020-11-27    84464.408548\n",
       "2020-11-28    85658.492968\n",
       "2020-11-29    86729.624256\n",
       "2020-11-30    87980.909476\n",
       "2020-12-01    89592.392035\n",
       "2020-12-02    91505.381421\n",
       "2020-12-03    93321.061437\n",
       "2020-12-04    94780.558078\n",
       "2020-12-05    95974.642498\n",
       "2020-12-06    97045.773786\n",
       "Freq: D, dtype: float64"
      ]
     },
     "execution_count": 252,
     "metadata": {},
     "output_type": "execute_result"
    }
   ],
   "source": [
    "tes_pred = tes_model.forecast(len(test))\n",
    "tes_pred"
   ]
  },
  {
   "cell_type": "code",
   "execution_count": 253,
   "id": "2179546f",
   "metadata": {},
   "outputs": [],
   "source": [
    "df_fc['tes_predict'] = tes_pred"
   ]
  },
  {
   "cell_type": "code",
   "execution_count": 254,
   "id": "d4f52ebf",
   "metadata": {},
   "outputs": [
    {
     "data": {
      "image/png": "[encoded data removed]",
      "text/plain": [
       "<Figure size 720x576 with 1 Axes>"
      ]
     },
     "metadata": {
      "needs_background": "light"
     },
     "output_type": "display_data"
    }
   ],
   "source": [
    "plt.figure(figsize=(10,8))\n",
    "plt.plot(train,label='Training Data')\n",
    "plt.plot(test,label='Test Data')\n",
    "plt.plot(df_fc.index,df_fc['Hospitalized_Forecast'],label='ARIMA_Predicted Data')\n",
    "plt.plot(df_fc.index,df_fc['sar_forecast'],label='SARIMA_predicted Data')\n",
    "plt.plot(df_fc.index,df_fc['tes_predict'],label='TES_predicted Data')\n",
    "plt.legend()\n",
    "plt.show()"
   ]
  },
  {
   "cell_type": "code",
   "execution_count": 256,
   "id": "a1b08e69",
   "metadata": {},
   "outputs": [
    {
     "data": {
      "text/plain": [
       "5172.740099751141"
      ]
     },
     "execution_count": 256,
     "metadata": {},
     "output_type": "execute_result"
    }
   ],
   "source": [
    "mean_squared_error(df_fc['Hospitalized'],df_fc['tes_predict'],squared=False)"
   ]
  },
  {
   "cell_type": "code",
   "execution_count": 257,
   "id": "f4213085",
   "metadata": {},
   "outputs": [
    {
     "data": {
      "text/plain": [
       "5.542329282757164"
      ]
     },
     "execution_count": 257,
     "metadata": {},
     "output_type": "execute_result"
    }
   ],
   "source": [
    "MAPE(df_fc['Hospitalized'],df_fc['tes_predict'])"
   ]
  },
  {
   "cell_type": "markdown",
   "id": "f3fd2c1d",
   "metadata": {},
   "source": [
    "**AS MAPE IS LESS IN TRIPLE EXPONENTIAL SMOOTHING SO WE DO FINAL FORECAST USING THE SAME MODEL TES**"
   ]
  },
  {
   "cell_type": "code",
   "execution_count": 260,
   "id": "8cb8d5c8",
   "metadata": {},
   "outputs": [],
   "source": [
    "tes_final = ExponentialSmoothing(df,trend='additive',seasonal='additive',initialization_method='estimated')\n",
    "\n",
    "final_tes = tes_final.fit()"
   ]
  },
  {
   "cell_type": "code",
   "execution_count": 261,
   "id": "21a4fad3",
   "metadata": {},
   "outputs": [
    {
     "data": {
      "text/plain": [
       "2020-12-07    101602.206341\n",
       "2020-12-08    102164.944067\n",
       "2020-12-09    103057.335027\n",
       "2020-12-10    103836.576441\n",
       "2020-12-11    104407.397863\n",
       "2020-12-12    104821.018220\n",
       "2020-12-13    105039.380327\n",
       "2020-12-14    105329.711108\n",
       "2020-12-15    105892.448834\n",
       "2020-12-16    106784.839794\n",
       "2020-12-17    107564.081208\n",
       "2020-12-18    108134.902630\n",
       "2020-12-19    108548.522987\n",
       "2020-12-20    108766.885094\n",
       "2020-12-21    109057.215875\n",
       "2020-12-22    109619.953601\n",
       "2020-12-23    110512.344561\n",
       "2020-12-24    111291.585975\n",
       "2020-12-25    111862.407397\n",
       "2020-12-26    112276.027754\n",
       "2020-12-27    112494.389861\n",
       "2020-12-28    112784.720642\n",
       "2020-12-29    113347.458368\n",
       "2020-12-30    114239.849328\n",
       "2020-12-31    115019.090742\n",
       "2021-01-01    115589.912164\n",
       "2021-01-02    116003.532522\n",
       "2021-01-03    116221.894628\n",
       "2021-01-04    116512.225409\n",
       "2021-01-05    117074.963135\n",
       "Freq: D, dtype: float64"
      ]
     },
     "execution_count": 261,
     "metadata": {},
     "output_type": "execute_result"
    }
   ],
   "source": [
    "forecast = final_tes.forecast(len(test))\n",
    "forecast"
   ]
  },
  {
   "cell_type": "code",
   "execution_count": 262,
   "id": "bc0b3502",
   "metadata": {},
   "outputs": [
    {
     "data": {
      "image/png": "[encoded data removed]",
      "text/plain": [
       "<Figure size 1008x576 with 1 Axes>"
      ]
     },
     "metadata": {
      "needs_background": "light"
     },
     "output_type": "display_data"
    }
   ],
   "source": [
    "plt.figure(figsize=(14,8))\n",
    "plt.plot(df,label='GIVEN DATA')\n",
    "plt.plot(forecast,label='forecasted data')\n",
    "plt.show()"
   ]
  },
  {
   "cell_type": "code",
   "execution_count": null,
   "id": "25464f90",
   "metadata": {},
   "outputs": [],
   "source": []
  }
 ],
 "metadata": {
  "kernelspec": {
   "display_name": "Python 3",
   "language": "python",
   "name": "python3"
  },
  "language_info": {
   "codemirror_mode": {
    "name": "ipython",
    "version": 3
   },
   "file_extension": ".py",
   "mimetype": "text/x-python",
   "name": "python",
   "nbconvert_exporter": "python",
   "pygments_lexer": "ipython3",
   "version": "3.8.8"
  }
 },
 "nbformat": 4,
 "nbformat_minor": 5
}
